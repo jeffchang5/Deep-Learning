{
 "cells": [
  {
   "cell_type": "markdown",
   "metadata": {},
   "source": [
    "## Activation functions\n",
    "Linear neurons don't allow too many degrees of expressing complex logic.\n",
    "\n",
    "Binary threshold units - weighted sums. Represents decisions\n",
    "\n",
    "ReLu - Combination of Linear neurons and binary threshold units. Represents a more discrete unit of computation.\n",
    "\n",
    "Sigmoids - are the most commonly used activation functions and they represent weighing properties to approach 0 or 1."
   ]
  },
  {
   "cell_type": "markdown",
   "metadata": {},
   "source": [
    "## A Simple Neural Network\n",
    "Basic operations include transforming values from input neurons to output neurons. \n",
    "\n",
    "The basic algorithm of incrementing or decrementing weights for clusters of pixels is problematic as it will often just point towards to most interlap."
   ]
  },
  {
   "cell_type": "markdown",
   "metadata": {},
   "source": [
    "## Types of Neural Networks\n",
    "\n",
    "### Feed Forward Networks\n",
    "Most typically used neural network for practical applications. Moves from one hidden layer to the next.\n",
    "\n",
    "### RNN \n",
    "Complicated, and much harder to implement for most cases. Although, they can provide accurate keep of time for sequential data. Useful in creating directed cycles and keeps inputs and weights for each slice of time.\n",
    "\n",
    "### Symmetric Network\n",
    "Obeys energy function. Inncapable of maintaining cyclical data. A type of RNN that always converge to a low energy stated.\n"
   ]
  },
  {
   "cell_type": "markdown",
   "metadata": {},
   "source": [
    "## Perceptrons: A first generation neural network\n",
    "### Standard Learning Procedure\n",
    "1. Hand-written feature.\n",
    "2. Weight feature is produce single scalar procedure.\n",
    "3. Make decision based on binary threshold.\n",
    "\n",
    "### Procedure\n",
    "If binary decision unit is 1, subtract weights from inputs.\n",
    "If 0, add weights to inputs.\n",
    "\n",
    "### Problems of Perceptrons\n",
    "* In the early days, there were discussions that perceptrons were limited in their capabilities.\n",
    "* Perceptron learning focuses on counting intensity rather than any intuitive understanding.\n"
   ]
  },
  {
   "cell_type": "code",
   "execution_count": null,
   "metadata": {},
   "outputs": [],
   "source": []
  }
 ],
 "metadata": {
  "kernelspec": {
   "display_name": "Python 3",
   "language": "python",
   "name": "python3"
  },
  "language_info": {
   "codemirror_mode": {
    "name": "ipython",
    "version": 3
   },
   "file_extension": ".py",
   "mimetype": "text/x-python",
   "name": "python",
   "nbconvert_exporter": "python",
   "pygments_lexer": "ipython3",
   "version": "3.6.3"
  }
 },
 "nbformat": 4,
 "nbformat_minor": 2
}
